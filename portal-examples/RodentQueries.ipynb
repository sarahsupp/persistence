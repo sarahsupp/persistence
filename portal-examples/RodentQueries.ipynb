{
 "metadata": {
  "name": ""
 },
 "nbformat": 3,
 "nbformat_minor": 0,
 "worksheets": [
  {
   "cells": [
    {
     "cell_type": "code",
     "collapsed": false,
     "input": [
      "import numpy as np\n",
      "import csv\n",
      "import pymysql; pymysql.install_as_MySQLdb()\n",
      "import MySQLdb as dbapi"
     ],
     "language": "python",
     "metadata": {},
     "outputs": [],
     "prompt_number": 1
    },
    {
     "cell_type": "code",
     "collapsed": false,
     "input": [
      "me = \"\"\n",
      "mypasswd = \"\""
     ],
     "language": "python",
     "metadata": {},
     "outputs": [],
     "prompt_number": 2
    },
    {
     "cell_type": "code",
     "collapsed": false,
     "input": [
      "db = dbapi.connect( host = 'serenity.bluezone.usu.edu', \n",
      "                    port = 1977, passwd = mypasswd, user = me, db = 'Portal')\n",
      "\n",
      "cur = db.cursor()"
     ],
     "language": "python",
     "metadata": {},
     "outputs": [
      {
       "ename": "ImportError",
       "evalue": "No module named configparser",
       "output_type": "pyerr",
       "traceback": [
        "\u001b[1;31m---------------------------------------------------------------------------\u001b[0m\n\u001b[1;31mImportError\u001b[0m                               Traceback (most recent call last)",
        "\u001b[1;32m<ipython-input-4-2e693869e3ee>\u001b[0m in \u001b[0;36m<module>\u001b[1;34m()\u001b[0m\n\u001b[0;32m      1\u001b[0m db = dbapi.connect( host = 'serenity.bluezone.usu.edu', \n\u001b[1;32m----> 2\u001b[1;33m                     port = 1977, passwd = mypasswd, user = me, db = 'Portal')\n\u001b[0m\u001b[0;32m      3\u001b[0m \u001b[1;33m\u001b[0m\u001b[0m\n\u001b[0;32m      4\u001b[0m \u001b[0mcur\u001b[0m \u001b[1;33m=\u001b[0m \u001b[0mdb\u001b[0m\u001b[1;33m.\u001b[0m\u001b[0mcursor\u001b[0m\u001b[1;33m(\u001b[0m\u001b[1;33m)\u001b[0m\u001b[1;33m\u001b[0m\u001b[0m\n",
        "\u001b[1;32mc:\\Users\\sarah\\AppData\\Local\\Continuum\\Anaconda\\lib\\site-packages\\pymysql3-0.5-py2.7.egg\\pymysql\\__init__.pyc\u001b[0m in \u001b[0;36mConnect\u001b[1;34m(*args, **kwargs)\u001b[0m\n\u001b[0;32m     90\u001b[0m     \u001b[0mmore\u001b[0m \u001b[0minformation\u001b[0m\u001b[1;33m.\u001b[0m\u001b[1;33m\u001b[0m\u001b[0m\n\u001b[0;32m     91\u001b[0m     \"\"\"\n\u001b[1;32m---> 92\u001b[1;33m     \u001b[1;32mfrom\u001b[0m \u001b[1;33m.\u001b[0m\u001b[0mconnections\u001b[0m \u001b[1;32mimport\u001b[0m \u001b[0mConnection\u001b[0m\u001b[1;33m\u001b[0m\u001b[0m\n\u001b[0m\u001b[0;32m     93\u001b[0m     \u001b[1;32mreturn\u001b[0m \u001b[0mConnection\u001b[0m\u001b[1;33m(\u001b[0m\u001b[1;33m*\u001b[0m\u001b[0margs\u001b[0m\u001b[1;33m,\u001b[0m \u001b[1;33m**\u001b[0m\u001b[0mkwargs\u001b[0m\u001b[1;33m)\u001b[0m\u001b[1;33m\u001b[0m\u001b[0m\n\u001b[0;32m     94\u001b[0m \u001b[1;33m\u001b[0m\u001b[0m\n",
        "\u001b[1;32mc:\\Users\\sarah\\AppData\\Local\\Continuum\\Anaconda\\lib\\site-packages\\pymysql3-0.5-py2.7.egg\\pymysql\\connections.py\u001b[0m in \u001b[0;36m<module>\u001b[1;34m()\u001b[0m\n\u001b[0;32m     19\u001b[0m \u001b[1;32mimport\u001b[0m \u001b[0msys\u001b[0m\u001b[1;33m\u001b[0m\u001b[0m\n\u001b[0;32m     20\u001b[0m \u001b[1;32mimport\u001b[0m \u001b[0mos\u001b[0m\u001b[1;33m\u001b[0m\u001b[0m\n\u001b[1;32m---> 21\u001b[1;33m \u001b[1;32mimport\u001b[0m \u001b[0mconfigparser\u001b[0m\u001b[1;33m\u001b[0m\u001b[0m\n\u001b[0m\u001b[0;32m     22\u001b[0m \u001b[1;33m\u001b[0m\u001b[0m\n\u001b[0;32m     23\u001b[0m \u001b[1;32mtry\u001b[0m\u001b[1;33m:\u001b[0m\u001b[1;33m\u001b[0m\u001b[0m\n",
        "\u001b[1;31mImportError\u001b[0m: No module named configparser"
       ]
      }
     ],
     "prompt_number": 4
    },
    {
     "cell_type": "heading",
     "level": 3,
     "metadata": {},
     "source": [
      "This tells us what tables are available in the Portal Database"
     ]
    },
    {
     "cell_type": "code",
     "collapsed": false,
     "input": [
      "cur.execute(\"SHOW TABLES FROM Portal\")\n",
      "tables = cur.fetchall()\n",
      "print tables\n",
      "\n"
     ],
     "language": "python",
     "metadata": {},
     "outputs": [
      {
       "output_type": "stream",
       "stream": "stdout",
       "text": [
        "(('Daily_PPT_1980_89',), ('Hourly_PPT_mm_1989_present',), ('Periods_Old',), ('Plant Species List',), ('Plots',), ('Rain_Gauge_Data_mm',), ('Rodents',), ('SPECIES',), ('Seasons',), ('Summer Annual Quadrats',), ('Summer Biomass',), ('Winter Annual Quadrats',), ('Winter Biomass',))\n"
       ]
      }
     ],
     "prompt_number": 4
    },
    {
     "cell_type": "heading",
     "level": 3,
     "metadata": {},
     "source": [
      "This code tells us what columns are available in each table that we are interested in:"
     ]
    },
    {
     "cell_type": "code",
     "collapsed": false,
     "input": [
      "cur.execute(\"SHOW COLUMNS FROM Rodents\")\n",
      "rcols= cur.fetchall()\n",
      "print \"Rodents\"\n",
      "print rcols\n",
      "print \"\"\n",
      "\n",
      "cur.execute(\"SHOW COLUMNS FROM SPECIES\")\n",
      "spcols = cur.fetchall()\n",
      "print \"SPECIES\"\n",
      "print spcols\n",
      "print \"\"\n",
      "\n",
      "cur.execute(\"SHOW COLUMNS FROM Plots\")\n",
      "pltcols = cur.fetchall()\n",
      "print \"Plots\"\n",
      "print pltcols\n",
      "\n"
     ],
     "language": "python",
     "metadata": {},
     "outputs": [
      {
       "output_type": "stream",
       "stream": "stdout",
       "text": [
        "Rodents\n",
        "(('Record_ID', 'int(10)', 'NO', 'PRI', None, 'auto_increment'), ('mo', 'double', 'YES', '', None, ''), ('dy', 'double', 'YES', '', None, ''), ('yr', 'double', 'YES', '', None, ''), ('period', 'double', 'YES', '', None, ''), ('plot', 'double', 'YES', '', None, ''), ('note1', 'double', 'YES', '', None, ''), ('stake', 'double', 'YES', '', None, ''), ('species', 'varchar(255)', 'YES', '', None, ''), ('sex', 'varchar(255)', 'YES', '', None, ''), ('age', 'varchar(255)', 'YES', '', None, ''), ('reprod', 'varchar(255)', 'YES', '', None, ''), ('testes', 'varchar(255)', 'YES', '', None, ''), ('vagina', 'varchar(255)', 'YES', '', None, ''), ('pregnant', 'varchar(255)', 'YES', '', None, ''), ('nipples', 'varchar(255)', 'YES', '', None, ''), ('lactation', 'varchar(255)', 'YES', '', None, ''), ('hfl', 'double', 'YES', '', None, ''), ('wgt', 'double', 'YES', '', None, ''), ('tag', 'varchar(255)', 'YES', '', None, ''), ('note2', 'varchar(255)', 'YES', '', None, ''), ('ltag', 'varchar(255)', 'YES', '', None, ''), ('note3', 'varchar(255)', 'YES', '', None, ''), ('prevrt', 'varchar(255)', 'YES', '', None, ''), ('prevlet', 'varchar(255)', 'YES', '', None, ''), ('nestdir', 'varchar(255)', 'YES', '', None, ''), ('neststk', 'double', 'YES', '', None, ''), ('note4', 'varchar(255)', 'YES', '', None, ''), ('note5', 'varchar(255)', 'YES', '', None, ''))\n",
        "\n",
        "SPECIES"
       ]
      },
      {
       "output_type": "stream",
       "stream": "stdout",
       "text": [
        "\n",
        "(('New Code', 'varchar(255)', 'NO', '', None, ''), ('OldCode', 'varchar(255)', 'YES', '', None, ''), ('ScientificName', 'varchar(255)', 'YES', '', None, ''), ('Taxa', 'varchar(255)', 'YES', '', None, ''), ('CommonName', 'varchar(255)', 'YES', '', None, ''), ('Unknown', 'tinyint(4)', 'YES', '', '0', ''), ('Rodent', 'tinyint(4)', 'YES', '', '0', ''), ('Shrubland-affiliated', 'int(11)', 'YES', '', '0', ''))\n",
        "\n",
        "Plots"
       ]
      },
      {
       "output_type": "stream",
       "stream": "stdout",
       "text": [
        "\n",
        "(('Plot Number', 'tinyint(4)', 'NO', '', '0', ''), ('Type Code', 'varchar(2)', 'YES', '', None, ''), ('Type Number', 'tinyint(4)', 'YES', '', '0', ''), ('Type Description', 'varchar(50)', 'YES', '', None, ''))\n"
       ]
      }
     ],
     "prompt_number": 5
    },
    {
     "cell_type": "heading",
     "level": 3,
     "metadata": {},
     "source": [
      "Now, we can grab the data that we are interested in:"
     ]
    },
    {
     "cell_type": "code",
     "collapsed": false,
     "input": [
      "cur.execute(\"\"\"SELECT Rodents.yr, Rodents.mo, Rodents.period, Rodents.plot, Rodents.stake, \n",
      "                      Rodents.species, Rodents.sex, Rodents.reprod, Rodents.vagina, Rodents.nipples,\n",
      "                      Rodents.pregnant, Rodents.wgt, Rodents.tag, Rodents.note2, Rodents.ltag, Rodents.note3,\n",
      "                      Rodents.note5\n",
      "               FROM Rodents \n",
      "               WHERE Rodents.yr > 1999 AND Rodents.yr < 2010\"\"\")\n",
      "\n",
      "rodents10yr = cur.fetchall()\n",
      "print len(rodents10yr)\n",
      "print rodents10yr[1]"
     ],
     "language": "python",
     "metadata": {},
     "outputs": [
      {
       "output_type": "stream",
       "stream": "stdout",
       "text": [
        "22436\n",
        "(2000.0, 1.0, 261.0, 1.0, 56.0, 'DO', 'M', None, None, None, None, 53.0, '184', '*', '0', None, None)\n"
       ]
      }
     ],
     "prompt_number": 6
    },
    {
     "cell_type": "code",
     "collapsed": false,
     "input": [
      "cur.execute(\"\"\"SELECT Rodents.yr, Rodents.mo, Rodents.period, Rodents.plot, Rodents.stake, \n",
      "                      Rodents.species, Rodents.sex, Rodents.reprod, Rodents.vagina, Rodents.nipples,\n",
      "                      Rodents.pregnant, Rodents.wgt, Rodents.tag, Rodents.note2, Rodents.ltag, Rodents.note3,\n",
      "                      Rodents.note5\n",
      "               FROM Rodents \n",
      "               WHERE Rodents.yr > 1979 AND Rodents.yr < 2010\"\"\")\n",
      "\n",
      "rodents30yr = cur.fetchall()\n",
      "print len(rodents30yr)"
     ],
     "language": "python",
     "metadata": {},
     "outputs": [
      {
       "output_type": "stream",
       "stream": "stdout",
       "text": [
        "50324\n"
       ]
      }
     ],
     "prompt_number": 7
    },
    {
     "cell_type": "code",
     "collapsed": false,
     "input": [
      "cur.execute(\"\"\"SELECT Rodents.period, Rodents.yr, Rodents.mo, Rodents.dy, Rodents.plot\n",
      "               FROM Rodents \n",
      "               WHERE Rodents.yr > 1979 AND Rodents.yr < 2010\"\"\")\n",
      "            \n",
      "rodentsprds = cur.fetchall()\n",
      "print len(rodentsprds)"
     ],
     "language": "python",
     "metadata": {},
     "outputs": [
      {
       "output_type": "stream",
       "stream": "stdout",
       "text": [
        "50324\n"
       ]
      }
     ],
     "prompt_number": 21
    },
    {
     "cell_type": "code",
     "collapsed": false,
     "input": [
      "#identify periods that were incompletely sampled (less than two days of sampling)\n",
      "newlist = list(set(rodentsprds)) #get unique rows\n",
      "print len(newlist)"
     ],
     "language": "python",
     "metadata": {},
     "outputs": [
      {
       "output_type": "stream",
       "stream": "stdout",
       "text": [
        "8578\n",
        "(235.0, 1997.0, 9.0, 27.0, 12.0)\n"
       ]
      }
     ],
     "prompt_number": 23
    },
    {
     "cell_type": "code",
     "collapsed": false,
     "input": [
      "#find periods where 24 plots were not sampled\n",
      "\n",
      "prd = range(30,380)\n",
      "len(prd)\n",
      "fullsamples = []\n",
      "mas = []\n",
      "menos = []\n",
      "\n",
      "for p in prd:\n",
      "    plots = []\n",
      "    for row in newlist:     \n",
      "        if row[0] == p:\n",
      "            plots.append(row[4])\n",
      "    if len(set(plots)) == 24:\n",
      "        fullsamples.append(p)\n",
      "    elif len(set(plots)) > 24:\n",
      "        mas.append(p)\n",
      "    elif len(set(plots)) < 24:\n",
      "        menos.append([p, len(set(plots))])\n",
      "        \n",
      "print fullsamples\n",
      "print menos\n",
      "print mas"
     ],
     "language": "python",
     "metadata": {},
     "outputs": [
      {
       "output_type": "stream",
       "stream": "stdout",
       "text": [
        "[30, 31, 32, 33, 34, 35, 36, 37, 38, 39, 40, 41, 43, 44, 45, 46, 47, 48, 49, 50, 51, 52, 53, 54, 55, 56, 57, 58, 59, 60, 61, 62, 63, 64, 65, 66, 67, 68, 69, 70, 71, 72, 73, 74, 75, 76, 77, 78, 79, 80, 81, 82, 83, 84, 85, 86, 87, 88, 89, 90, 91, 92, 93, 94, 95, 96, 97, 98, 99, 100, 101, 102, 103, 104, 105, 106, 107, 108, 109, 110, 111, 112, 113, 114, 115, 116, 117, 118, 119, 120, 121, 122, 123, 124, 125, 126, 127, 128, 129, 130, 131, 132, 133, 134, 135, 136, 137, 138, 139, 140, 141, 142, 143, 144, 145, 146, 147, 149, 150, 153, 155, 156, 157, 158, 159, 160, 161, 162, 163, 164, 165, 166, 167, 168, 169, 170, 171, 172, 173, 174, 175, 176, 177, 178, 179, 180, 181, 182, 183, 184, 185, 186, 187, 188, 189, 190, 191, 192, 193, 194, 195, 196, 197, 198, 199, 200, 201, 202, 203, 204, 205, 206, 207, 208, 209, 210, 211, 212, 213, 214, 215, 216, 217, 218, 219, 220, 221, 222, 223, 224, 225, 226, 227, 228, 229, 230, 231, 232, 233, 234, 235, 236, 237, 238, 239, 240, 242, 243, 244, 245, 246, 247, 248, 249, 250, 251, 253, 254, 255, 256, 257, 258, 259, 260, 261, 262, 264, 265, 266, 268, 269, 270, 271, 274, 275, 276, 279, 280, 281, 282, 285, 286, 287, 288, 289, 290, 291, 292, 293, 294, 295, 296, 297, 298, 299, 300, 301, 302, 303, 304, 305, 307, 308, 309, 310, 315, 316, 317, 319, 320, 322, 324, 325, 326, 327, 328, 329, 330, 338, 340, 341, 342, 343, 345, 346, 348, 349, 350, 352, 353, 354, 355, 356, 357, 358, 359, 360, 361, 362, 363, 364, 365, 366, 369, 370, 371, 372, 373, 374, 375, 376, 377, 378, 379]\n",
        "[[42, 23], [148, 22], [151, 19], [152, 22], [154, 23], [241, 12], [252, 23], [263, 23], [267, 14], [272, 22], [273, 23], [277, 12], [278, 12], [283, 12], [284, 11], [306, 23], [311, 23], [312, 23], [313, 22], [314, 23], [318, 12], [321, 22], [323, 23], [331, 22], [332, 21], [333, 22], [334, 22], [335, 23], [336, 23], [337, 11], [339, 12], [344, 12], [347, 23], [351, 12], [367, 23], [368, 22]]\n",
        "[]\n"
       ]
      }
     ],
     "prompt_number": 25
    },
    {
     "cell_type": "code",
     "collapsed": false,
     "input": [
      "\n",
      "prd = range(30,380)\n",
      "len(prd)\n",
      "fullsamples = []\n",
      "mas = []\n",
      "menos = []\n",
      "\n",
      "for p in prd:\n",
      "    day = []\n",
      "    for row in newlist:     \n",
      "        if row[0] == p:\n",
      "            day.append(row[3])\n",
      "    if len(set(day)) == 2:\n",
      "        fullsamples.append(p)\n",
      "    elif len(set(day)) > 2:\n",
      "        mas.append(p)\n",
      "    elif len(set(day)) < 2:\n",
      "        menos.append(p)\n",
      "\n",
      "#print fullsamples\n",
      "print len(fullsamples)\n",
      "print len(prd)\n",
      "print len(mas)\n",
      "print mas\n",
      "print len(menos)\n",
      "print menos\n",
      "\n",
      "#periods that did not have at least 2 days of sampling\n",
      "badprds = set(prd[1:]).symmetric_difference(fullsamples[1:])\n",
      "\n",
      "print badprds\n",
      "\n"
     ],
     "language": "python",
     "metadata": {},
     "outputs": [
      {
       "output_type": "stream",
       "stream": "stdout",
       "text": [
        "317\n",
        "350\n",
        "21\n",
        "[50, 51, 53, 55, 60, 121, 132, 134, 146, 147, 152, 158, 163, 165, 168, 179, 191, 192, 203, 232, 247]\n",
        "12\n",
        "[111, 237, 241, 277, 278, 283, 284, 318, 337, 339, 344, 351]\n",
        "set([50, 51, 53, 55, 60, 111, 121, 132, 134, 146, 147, 152, 158, 163, 165, 168, 179, 191, 192, 203, 232, 237, 241, 247, 277, 278, 283, 284, 318, 337, 339, 344, 351])\n"
       ]
      }
     ],
     "prompt_number": 19
    },
    {
     "cell_type": "code",
     "collapsed": false,
     "input": [
      "cur.close()"
     ],
     "language": "python",
     "metadata": {},
     "outputs": []
    }
   ],
   "metadata": {}
  }
 ]
}